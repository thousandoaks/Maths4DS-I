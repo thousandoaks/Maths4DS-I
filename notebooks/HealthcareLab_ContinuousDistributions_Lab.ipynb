{
  "nbformat": 4,
  "nbformat_minor": 0,
  "metadata": {
    "colab": {
      "provenance": [],
      "authorship_tag": "ABX9TyML06ofZmqkSenDAFKVkHdz"
    },
    "kernelspec": {
      "name": "python3",
      "display_name": "Python 3"
    },
    "language_info": {
      "name": "python"
    }
  },
  "cells": [
    {
      "cell_type": "markdown",
      "source": [
        "# Healthcare Lab (Continuous Distributions Lab)"
      ],
      "metadata": {
        "id": "d_WMo1QVesys"
      }
    },
    {
      "cell_type": "markdown",
      "source": [
        "**Learning Objectives:**\n",
        "  * Practice Basic Statistical Analysis\n",
        "  \n",
        "  * Gain exposure to healthcare related DataSets"
      ],
      "metadata": {
        "id": "Ao_VRQeKe1p3"
      }
    },
    {
      "cell_type": "code",
      "execution_count": 1,
      "metadata": {
        "id": "2KzFIzTRepaH"
      },
      "outputs": [],
      "source": []
    },
    {
      "cell_type": "markdown",
      "source": [
        "## Context of the dataset\n",
        "\n",
        "### 1. The dataset is consisted of records corresponding to medical events.\n",
        "### 2. Each medical event is uniquely identified by `MedicalClaim`.\n",
        "### 3. A given medical event might involve several medical procedures.\n",
        "### 4. Each medical procedure is uniquely identified by `ClaimItem`\n",
        "### 5. A given medical procedure is characterized by `PrincipalDiagnosisDesc`,`PrincipalDiagnosis`,`RevenueCodeDesc`, `RevenueCode`, `TypeFlag` and `TotalExpenses`\n",
        "\n",
        "### 6. Each medical procedure involves: `MemberName`,`MemberID`,`County`,`HospitalName`, `HospitalType`, `StartDate`,`EndDate`\n"
      ],
      "metadata": {
        "id": "u_K5MTPJfKdI"
      }
    },
    {
      "cell_type": "markdown",
      "source": [
        "## 1. Library Import"
      ],
      "metadata": {
        "id": "t5EaaJTIkwji"
      }
    },
    {
      "cell_type": "code",
      "source": [
        "import pandas as pd\n",
        "import warnings\n",
        "import numpy as np\n",
        "import seaborn as sns\n",
        "from matplotlib import pyplot as plt"
      ],
      "metadata": {
        "id": "1sjvyToWfNvt"
      },
      "execution_count": 2,
      "outputs": []
    },
    {
      "cell_type": "code",
      "source": [
        "warnings.simplefilter('ignore')"
      ],
      "metadata": {
        "id": "1aoBmtwNv937"
      },
      "execution_count": 3,
      "outputs": []
    },
    {
      "cell_type": "markdown",
      "source": [
        "## 2. Data loading and DataFrame creation"
      ],
      "metadata": {
        "id": "xzdodfhZkq7J"
      }
    },
    {
      "cell_type": "code",
      "source": [
        "HealthCareDataSet=pd.read_csv(\"https://github.com/thousandoaks/Python4DS-I/raw/main/datasets/HealthcareDataset_PublicRelease.csv\",sep=',',parse_dates=['StartDate','EndDate','BirthDate'])"
      ],
      "metadata": {
        "id": "fpFEe3-TfPYy"
      },
      "execution_count": 4,
      "outputs": []
    },
    {
      "cell_type": "code",
      "source": [
        "HealthCareDataSet.head(3)"
      ],
      "metadata": {
        "colab": {
          "base_uri": "https://localhost:8080/",
          "height": 320
        },
        "id": "xm6DfesafcOA",
        "outputId": "869530d1-3ced-408e-fd6f-9c67b6129d8e"
      },
      "execution_count": 5,
      "outputs": [
        {
          "output_type": "execute_result",
          "data": {
            "text/plain": [
              "       Id MemberName  MemberID    County      MedicalClaim  ClaimItem  \\\n",
              "0  634363   e659f3f4  6a380a28  6f943458  c1e3436737c77899         18   \n",
              "1  634364   e659f3f4  6a380a28  6f943458  c1e3436737c77899         21   \n",
              "2  634387   e659f3f4  6a380a28  6f943458  c1e3436737c77899         10   \n",
              "\n",
              "  HospitalName HospitalType  StartDate    EndDate PrincipalDiagnosisDesc  \\\n",
              "0     04b77561     HOSPITAL 2020-01-08 2020-01-08        Epigastric pain   \n",
              "1     04b77561     HOSPITAL 2020-01-08 2020-01-08        Epigastric pain   \n",
              "2     04b77561     HOSPITAL 2020-01-08 2020-01-08        Epigastric pain   \n",
              "\n",
              "  PrincipalDiagnosis                                    RevenueCodeDesc  \\\n",
              "0             R10.13  DRUGS REQUIRE SPECIFIC ID: DRUGS REQUIRING DET...   \n",
              "1             R10.13  DRUGS REQUIRE SPECIFIC ID: DRUGS REQUIRING DET...   \n",
              "2             R10.13       LABORATORY - CLINICAL DIAGNOSTIC: HEMATOLOGY   \n",
              "\n",
              "   RevenueCode TypeFlag  BirthDate  TotalExpenses  \n",
              "0        636.0       ER 1967-05-13         15.148  \n",
              "1        636.0       ER 1967-05-13          3.073  \n",
              "2        305.0       ER 1967-05-13        123.900  "
            ],
            "text/html": [
              "\n",
              "  <div id=\"df-6931cf13-5706-44f5-9692-1e42615705a3\" class=\"colab-df-container\">\n",
              "    <div>\n",
              "<style scoped>\n",
              "    .dataframe tbody tr th:only-of-type {\n",
              "        vertical-align: middle;\n",
              "    }\n",
              "\n",
              "    .dataframe tbody tr th {\n",
              "        vertical-align: top;\n",
              "    }\n",
              "\n",
              "    .dataframe thead th {\n",
              "        text-align: right;\n",
              "    }\n",
              "</style>\n",
              "<table border=\"1\" class=\"dataframe\">\n",
              "  <thead>\n",
              "    <tr style=\"text-align: right;\">\n",
              "      <th></th>\n",
              "      <th>Id</th>\n",
              "      <th>MemberName</th>\n",
              "      <th>MemberID</th>\n",
              "      <th>County</th>\n",
              "      <th>MedicalClaim</th>\n",
              "      <th>ClaimItem</th>\n",
              "      <th>HospitalName</th>\n",
              "      <th>HospitalType</th>\n",
              "      <th>StartDate</th>\n",
              "      <th>EndDate</th>\n",
              "      <th>PrincipalDiagnosisDesc</th>\n",
              "      <th>PrincipalDiagnosis</th>\n",
              "      <th>RevenueCodeDesc</th>\n",
              "      <th>RevenueCode</th>\n",
              "      <th>TypeFlag</th>\n",
              "      <th>BirthDate</th>\n",
              "      <th>TotalExpenses</th>\n",
              "    </tr>\n",
              "  </thead>\n",
              "  <tbody>\n",
              "    <tr>\n",
              "      <th>0</th>\n",
              "      <td>634363</td>\n",
              "      <td>e659f3f4</td>\n",
              "      <td>6a380a28</td>\n",
              "      <td>6f943458</td>\n",
              "      <td>c1e3436737c77899</td>\n",
              "      <td>18</td>\n",
              "      <td>04b77561</td>\n",
              "      <td>HOSPITAL</td>\n",
              "      <td>2020-01-08</td>\n",
              "      <td>2020-01-08</td>\n",
              "      <td>Epigastric pain</td>\n",
              "      <td>R10.13</td>\n",
              "      <td>DRUGS REQUIRE SPECIFIC ID: DRUGS REQUIRING DET...</td>\n",
              "      <td>636.0</td>\n",
              "      <td>ER</td>\n",
              "      <td>1967-05-13</td>\n",
              "      <td>15.148</td>\n",
              "    </tr>\n",
              "    <tr>\n",
              "      <th>1</th>\n",
              "      <td>634364</td>\n",
              "      <td>e659f3f4</td>\n",
              "      <td>6a380a28</td>\n",
              "      <td>6f943458</td>\n",
              "      <td>c1e3436737c77899</td>\n",
              "      <td>21</td>\n",
              "      <td>04b77561</td>\n",
              "      <td>HOSPITAL</td>\n",
              "      <td>2020-01-08</td>\n",
              "      <td>2020-01-08</td>\n",
              "      <td>Epigastric pain</td>\n",
              "      <td>R10.13</td>\n",
              "      <td>DRUGS REQUIRE SPECIFIC ID: DRUGS REQUIRING DET...</td>\n",
              "      <td>636.0</td>\n",
              "      <td>ER</td>\n",
              "      <td>1967-05-13</td>\n",
              "      <td>3.073</td>\n",
              "    </tr>\n",
              "    <tr>\n",
              "      <th>2</th>\n",
              "      <td>634387</td>\n",
              "      <td>e659f3f4</td>\n",
              "      <td>6a380a28</td>\n",
              "      <td>6f943458</td>\n",
              "      <td>c1e3436737c77899</td>\n",
              "      <td>10</td>\n",
              "      <td>04b77561</td>\n",
              "      <td>HOSPITAL</td>\n",
              "      <td>2020-01-08</td>\n",
              "      <td>2020-01-08</td>\n",
              "      <td>Epigastric pain</td>\n",
              "      <td>R10.13</td>\n",
              "      <td>LABORATORY - CLINICAL DIAGNOSTIC: HEMATOLOGY</td>\n",
              "      <td>305.0</td>\n",
              "      <td>ER</td>\n",
              "      <td>1967-05-13</td>\n",
              "      <td>123.900</td>\n",
              "    </tr>\n",
              "  </tbody>\n",
              "</table>\n",
              "</div>\n",
              "    <div class=\"colab-df-buttons\">\n",
              "\n",
              "  <div class=\"colab-df-container\">\n",
              "    <button class=\"colab-df-convert\" onclick=\"convertToInteractive('df-6931cf13-5706-44f5-9692-1e42615705a3')\"\n",
              "            title=\"Convert this dataframe to an interactive table.\"\n",
              "            style=\"display:none;\">\n",
              "\n",
              "  <svg xmlns=\"http://www.w3.org/2000/svg\" height=\"24px\" viewBox=\"0 -960 960 960\">\n",
              "    <path d=\"M120-120v-720h720v720H120Zm60-500h600v-160H180v160Zm220 220h160v-160H400v160Zm0 220h160v-160H400v160ZM180-400h160v-160H180v160Zm440 0h160v-160H620v160ZM180-180h160v-160H180v160Zm440 0h160v-160H620v160Z\"/>\n",
              "  </svg>\n",
              "    </button>\n",
              "\n",
              "  <style>\n",
              "    .colab-df-container {\n",
              "      display:flex;\n",
              "      gap: 12px;\n",
              "    }\n",
              "\n",
              "    .colab-df-convert {\n",
              "      background-color: #E8F0FE;\n",
              "      border: none;\n",
              "      border-radius: 50%;\n",
              "      cursor: pointer;\n",
              "      display: none;\n",
              "      fill: #1967D2;\n",
              "      height: 32px;\n",
              "      padding: 0 0 0 0;\n",
              "      width: 32px;\n",
              "    }\n",
              "\n",
              "    .colab-df-convert:hover {\n",
              "      background-color: #E2EBFA;\n",
              "      box-shadow: 0px 1px 2px rgba(60, 64, 67, 0.3), 0px 1px 3px 1px rgba(60, 64, 67, 0.15);\n",
              "      fill: #174EA6;\n",
              "    }\n",
              "\n",
              "    .colab-df-buttons div {\n",
              "      margin-bottom: 4px;\n",
              "    }\n",
              "\n",
              "    [theme=dark] .colab-df-convert {\n",
              "      background-color: #3B4455;\n",
              "      fill: #D2E3FC;\n",
              "    }\n",
              "\n",
              "    [theme=dark] .colab-df-convert:hover {\n",
              "      background-color: #434B5C;\n",
              "      box-shadow: 0px 1px 3px 1px rgba(0, 0, 0, 0.15);\n",
              "      filter: drop-shadow(0px 1px 2px rgba(0, 0, 0, 0.3));\n",
              "      fill: #FFFFFF;\n",
              "    }\n",
              "  </style>\n",
              "\n",
              "    <script>\n",
              "      const buttonEl =\n",
              "        document.querySelector('#df-6931cf13-5706-44f5-9692-1e42615705a3 button.colab-df-convert');\n",
              "      buttonEl.style.display =\n",
              "        google.colab.kernel.accessAllowed ? 'block' : 'none';\n",
              "\n",
              "      async function convertToInteractive(key) {\n",
              "        const element = document.querySelector('#df-6931cf13-5706-44f5-9692-1e42615705a3');\n",
              "        const dataTable =\n",
              "          await google.colab.kernel.invokeFunction('convertToInteractive',\n",
              "                                                    [key], {});\n",
              "        if (!dataTable) return;\n",
              "\n",
              "        const docLinkHtml = 'Like what you see? Visit the ' +\n",
              "          '<a target=\"_blank\" href=https://colab.research.google.com/notebooks/data_table.ipynb>data table notebook</a>'\n",
              "          + ' to learn more about interactive tables.';\n",
              "        element.innerHTML = '';\n",
              "        dataTable['output_type'] = 'display_data';\n",
              "        await google.colab.output.renderOutput(dataTable, element);\n",
              "        const docLink = document.createElement('div');\n",
              "        docLink.innerHTML = docLinkHtml;\n",
              "        element.appendChild(docLink);\n",
              "      }\n",
              "    </script>\n",
              "  </div>\n",
              "\n",
              "\n",
              "<div id=\"df-acbbdb5e-0c39-440f-a01b-fce415224c70\">\n",
              "  <button class=\"colab-df-quickchart\" onclick=\"quickchart('df-acbbdb5e-0c39-440f-a01b-fce415224c70')\"\n",
              "            title=\"Suggest charts\"\n",
              "            style=\"display:none;\">\n",
              "\n",
              "<svg xmlns=\"http://www.w3.org/2000/svg\" height=\"24px\"viewBox=\"0 0 24 24\"\n",
              "     width=\"24px\">\n",
              "    <g>\n",
              "        <path d=\"M19 3H5c-1.1 0-2 .9-2 2v14c0 1.1.9 2 2 2h14c1.1 0 2-.9 2-2V5c0-1.1-.9-2-2-2zM9 17H7v-7h2v7zm4 0h-2V7h2v10zm4 0h-2v-4h2v4z\"/>\n",
              "    </g>\n",
              "</svg>\n",
              "  </button>\n",
              "\n",
              "<style>\n",
              "  .colab-df-quickchart {\n",
              "      --bg-color: #E8F0FE;\n",
              "      --fill-color: #1967D2;\n",
              "      --hover-bg-color: #E2EBFA;\n",
              "      --hover-fill-color: #174EA6;\n",
              "      --disabled-fill-color: #AAA;\n",
              "      --disabled-bg-color: #DDD;\n",
              "  }\n",
              "\n",
              "  [theme=dark] .colab-df-quickchart {\n",
              "      --bg-color: #3B4455;\n",
              "      --fill-color: #D2E3FC;\n",
              "      --hover-bg-color: #434B5C;\n",
              "      --hover-fill-color: #FFFFFF;\n",
              "      --disabled-bg-color: #3B4455;\n",
              "      --disabled-fill-color: #666;\n",
              "  }\n",
              "\n",
              "  .colab-df-quickchart {\n",
              "    background-color: var(--bg-color);\n",
              "    border: none;\n",
              "    border-radius: 50%;\n",
              "    cursor: pointer;\n",
              "    display: none;\n",
              "    fill: var(--fill-color);\n",
              "    height: 32px;\n",
              "    padding: 0;\n",
              "    width: 32px;\n",
              "  }\n",
              "\n",
              "  .colab-df-quickchart:hover {\n",
              "    background-color: var(--hover-bg-color);\n",
              "    box-shadow: 0 1px 2px rgba(60, 64, 67, 0.3), 0 1px 3px 1px rgba(60, 64, 67, 0.15);\n",
              "    fill: var(--button-hover-fill-color);\n",
              "  }\n",
              "\n",
              "  .colab-df-quickchart-complete:disabled,\n",
              "  .colab-df-quickchart-complete:disabled:hover {\n",
              "    background-color: var(--disabled-bg-color);\n",
              "    fill: var(--disabled-fill-color);\n",
              "    box-shadow: none;\n",
              "  }\n",
              "\n",
              "  .colab-df-spinner {\n",
              "    border: 2px solid var(--fill-color);\n",
              "    border-color: transparent;\n",
              "    border-bottom-color: var(--fill-color);\n",
              "    animation:\n",
              "      spin 1s steps(1) infinite;\n",
              "  }\n",
              "\n",
              "  @keyframes spin {\n",
              "    0% {\n",
              "      border-color: transparent;\n",
              "      border-bottom-color: var(--fill-color);\n",
              "      border-left-color: var(--fill-color);\n",
              "    }\n",
              "    20% {\n",
              "      border-color: transparent;\n",
              "      border-left-color: var(--fill-color);\n",
              "      border-top-color: var(--fill-color);\n",
              "    }\n",
              "    30% {\n",
              "      border-color: transparent;\n",
              "      border-left-color: var(--fill-color);\n",
              "      border-top-color: var(--fill-color);\n",
              "      border-right-color: var(--fill-color);\n",
              "    }\n",
              "    40% {\n",
              "      border-color: transparent;\n",
              "      border-right-color: var(--fill-color);\n",
              "      border-top-color: var(--fill-color);\n",
              "    }\n",
              "    60% {\n",
              "      border-color: transparent;\n",
              "      border-right-color: var(--fill-color);\n",
              "    }\n",
              "    80% {\n",
              "      border-color: transparent;\n",
              "      border-right-color: var(--fill-color);\n",
              "      border-bottom-color: var(--fill-color);\n",
              "    }\n",
              "    90% {\n",
              "      border-color: transparent;\n",
              "      border-bottom-color: var(--fill-color);\n",
              "    }\n",
              "  }\n",
              "</style>\n",
              "\n",
              "  <script>\n",
              "    async function quickchart(key) {\n",
              "      const quickchartButtonEl =\n",
              "        document.querySelector('#' + key + ' button');\n",
              "      quickchartButtonEl.disabled = true;  // To prevent multiple clicks.\n",
              "      quickchartButtonEl.classList.add('colab-df-spinner');\n",
              "      try {\n",
              "        const charts = await google.colab.kernel.invokeFunction(\n",
              "            'suggestCharts', [key], {});\n",
              "      } catch (error) {\n",
              "        console.error('Error during call to suggestCharts:', error);\n",
              "      }\n",
              "      quickchartButtonEl.classList.remove('colab-df-spinner');\n",
              "      quickchartButtonEl.classList.add('colab-df-quickchart-complete');\n",
              "    }\n",
              "    (() => {\n",
              "      let quickchartButtonEl =\n",
              "        document.querySelector('#df-acbbdb5e-0c39-440f-a01b-fce415224c70 button');\n",
              "      quickchartButtonEl.style.display =\n",
              "        google.colab.kernel.accessAllowed ? 'block' : 'none';\n",
              "    })();\n",
              "  </script>\n",
              "</div>\n",
              "\n",
              "    </div>\n",
              "  </div>\n"
            ],
            "application/vnd.google.colaboratory.intrinsic+json": {
              "type": "dataframe",
              "variable_name": "HealthCareDataSet",
              "summary": "{\n  \"name\": \"HealthCareDataSet\",\n  \"rows\": 52563,\n  \"fields\": [\n    {\n      \"column\": \"Id\",\n      \"properties\": {\n        \"dtype\": \"number\",\n        \"std\": 30913,\n        \"min\": 634363,\n        \"max\": 741736,\n        \"num_unique_values\": 52563,\n        \"samples\": [\n          717055,\n          672046,\n          641484\n        ],\n        \"semantic_type\": \"\",\n        \"description\": \"\"\n      }\n    },\n    {\n      \"column\": \"MemberName\",\n      \"properties\": {\n        \"dtype\": \"category\",\n        \"num_unique_values\": 1753,\n        \"samples\": [\n          \"0a3c2ad9\",\n          \"48eb7f89\",\n          \"980f6ed4\"\n        ],\n        \"semantic_type\": \"\",\n        \"description\": \"\"\n      }\n    },\n    {\n      \"column\": \"MemberID\",\n      \"properties\": {\n        \"dtype\": \"category\",\n        \"num_unique_values\": 1757,\n        \"samples\": [\n          \"d3f3ebbc\",\n          \"5f609d45\",\n          \"477e3256\"\n        ],\n        \"semantic_type\": \"\",\n        \"description\": \"\"\n      }\n    },\n    {\n      \"column\": \"County\",\n      \"properties\": {\n        \"dtype\": \"category\",\n        \"num_unique_values\": 19,\n        \"samples\": [\n          \"6f943458\",\n          \"02af982d\",\n          \"adb3fb00\"\n        ],\n        \"semantic_type\": \"\",\n        \"description\": \"\"\n      }\n    },\n    {\n      \"column\": \"MedicalClaim\",\n      \"properties\": {\n        \"dtype\": \"category\",\n        \"num_unique_values\": 3361,\n        \"samples\": [\n          \"79032eefd1feeb8e\",\n          \"f3f81c5ebf62ed91\",\n          \"48c67d5441f9ca6d\"\n        ],\n        \"semantic_type\": \"\",\n        \"description\": \"\"\n      }\n    },\n    {\n      \"column\": \"ClaimItem\",\n      \"properties\": {\n        \"dtype\": \"number\",\n        \"std\": 10,\n        \"min\": 1,\n        \"max\": 127,\n        \"num_unique_values\": 127,\n        \"samples\": [\n          40,\n          111,\n          83\n        ],\n        \"semantic_type\": \"\",\n        \"description\": \"\"\n      }\n    },\n    {\n      \"column\": \"HospitalName\",\n      \"properties\": {\n        \"dtype\": \"category\",\n        \"num_unique_values\": 148,\n        \"samples\": [\n          \"2c2f104d\",\n          \"0a075ac9\",\n          \"d691f78d\"\n        ],\n        \"semantic_type\": \"\",\n        \"description\": \"\"\n      }\n    },\n    {\n      \"column\": \"HospitalType\",\n      \"properties\": {\n        \"dtype\": \"category\",\n        \"num_unique_values\": 3,\n        \"samples\": [\n          \"HOSPITAL\",\n          \"REHABILITATION CENTER\",\n          \"HOSPITAL LONG TERM ACUTE\"\n        ],\n        \"semantic_type\": \"\",\n        \"description\": \"\"\n      }\n    },\n    {\n      \"column\": \"StartDate\",\n      \"properties\": {\n        \"dtype\": \"date\",\n        \"min\": \"2020-01-01 00:00:00\",\n        \"max\": \"2020-12-31 00:00:00\",\n        \"num_unique_values\": 366,\n        \"samples\": [\n          \"2020-07-25 00:00:00\",\n          \"2020-02-28 00:00:00\",\n          \"2020-01-20 00:00:00\"\n        ],\n        \"semantic_type\": \"\",\n        \"description\": \"\"\n      }\n    },\n    {\n      \"column\": \"EndDate\",\n      \"properties\": {\n        \"dtype\": \"date\",\n        \"min\": \"2020-01-01 00:00:00\",\n        \"max\": \"2020-12-31 00:00:00\",\n        \"num_unique_values\": 366,\n        \"samples\": [\n          \"2020-07-17 00:00:00\",\n          \"2020-02-03 00:00:00\",\n          \"2020-01-29 00:00:00\"\n        ],\n        \"semantic_type\": \"\",\n        \"description\": \"\"\n      }\n    },\n    {\n      \"column\": \"PrincipalDiagnosisDesc\",\n      \"properties\": {\n        \"dtype\": \"category\",\n        \"num_unique_values\": 798,\n        \"samples\": [\n          \"Biliary acute pancreatiti\",\n          \"Calculus of ureter\",\n          \"Major depressive disorder\"\n        ],\n        \"semantic_type\": \"\",\n        \"description\": \"\"\n      }\n    },\n    {\n      \"column\": \"PrincipalDiagnosis\",\n      \"properties\": {\n        \"dtype\": \"category\",\n        \"num_unique_values\": 1037,\n        \"samples\": [\n          \"S52.612A\",\n          \"R33.8\",\n          \"I35.2\"\n        ],\n        \"semantic_type\": \"\",\n        \"description\": \"\"\n      }\n    },\n    {\n      \"column\": \"RevenueCodeDesc\",\n      \"properties\": {\n        \"dtype\": \"category\",\n        \"num_unique_values\": 131,\n        \"samples\": [\n          \"MEDICAL/SURGICAL SUPPLIES\",\n          \"MAGNETIC RESONANCE TECH. (MRT)\",\n          \"MEDICAL/SURGICAL/GYN\"\n        ],\n        \"semantic_type\": \"\",\n        \"description\": \"\"\n      }\n    },\n    {\n      \"column\": \"RevenueCode\",\n      \"properties\": {\n        \"dtype\": \"number\",\n        \"std\": 158.55173341141844,\n        \"min\": 24.0,\n        \"max\": 942.0,\n        \"num_unique_values\": 136,\n        \"samples\": [\n          900.0,\n          420.0,\n          444.0\n        ],\n        \"semantic_type\": \"\",\n        \"description\": \"\"\n      }\n    },\n    {\n      \"column\": \"TypeFlag\",\n      \"properties\": {\n        \"dtype\": \"category\",\n        \"num_unique_values\": 2,\n        \"samples\": [\n          \"INP\",\n          \"ER\"\n        ],\n        \"semantic_type\": \"\",\n        \"description\": \"\"\n      }\n    },\n    {\n      \"column\": \"BirthDate\",\n      \"properties\": {\n        \"dtype\": \"date\",\n        \"min\": \"1921-01-18 00:00:00\",\n        \"max\": \"1999-08-09 00:00:00\",\n        \"num_unique_values\": 1632,\n        \"samples\": [\n          \"1949-05-31 00:00:00\",\n          \"1952-03-21 00:00:00\"\n        ],\n        \"semantic_type\": \"\",\n        \"description\": \"\"\n      }\n    },\n    {\n      \"column\": \"TotalExpenses\",\n      \"properties\": {\n        \"dtype\": \"number\",\n        \"std\": 8292.178928308394,\n        \"min\": 0.0,\n        \"max\": 504533.4,\n        \"num_unique_values\": 18853,\n        \"samples\": [\n          72417.1,\n          196.7\n        ],\n        \"semantic_type\": \"\",\n        \"description\": \"\"\n      }\n    }\n  ]\n}"
            }
          },
          "metadata": {},
          "execution_count": 5
        }
      ]
    },
    {
      "cell_type": "code",
      "source": [
        "HealthCareDataSet.info()"
      ],
      "metadata": {
        "colab": {
          "base_uri": "https://localhost:8080/"
        },
        "id": "UKJFk_S_lBgz",
        "outputId": "7d9e5440-915b-4328-cd5d-2d31b0bfba71"
      },
      "execution_count": 6,
      "outputs": [
        {
          "output_type": "stream",
          "name": "stdout",
          "text": [
            "<class 'pandas.core.frame.DataFrame'>\n",
            "RangeIndex: 52563 entries, 0 to 52562\n",
            "Data columns (total 17 columns):\n",
            " #   Column                  Non-Null Count  Dtype         \n",
            "---  ------                  --------------  -----         \n",
            " 0   Id                      52563 non-null  int64         \n",
            " 1   MemberName              52563 non-null  object        \n",
            " 2   MemberID                52563 non-null  object        \n",
            " 3   County                  52563 non-null  object        \n",
            " 4   MedicalClaim            52563 non-null  object        \n",
            " 5   ClaimItem               52563 non-null  int64         \n",
            " 6   HospitalName            52563 non-null  object        \n",
            " 7   HospitalType            52563 non-null  object        \n",
            " 8   StartDate               52563 non-null  datetime64[ns]\n",
            " 9   EndDate                 52563 non-null  datetime64[ns]\n",
            " 10  PrincipalDiagnosisDesc  52563 non-null  object        \n",
            " 11  PrincipalDiagnosis      52563 non-null  object        \n",
            " 12  RevenueCodeDesc         52561 non-null  object        \n",
            " 13  RevenueCode             52563 non-null  float64       \n",
            " 14  TypeFlag                52563 non-null  object        \n",
            " 15  BirthDate               52563 non-null  datetime64[ns]\n",
            " 16  TotalExpenses           52563 non-null  float64       \n",
            "dtypes: datetime64[ns](3), float64(2), int64(2), object(10)\n",
            "memory usage: 6.8+ MB\n"
          ]
        }
      ]
    },
    {
      "cell_type": "code",
      "source": [
        "HealthCareDataSet['AgeAtMedicalEvent']=(HealthCareDataSet['StartDate']-HealthCareDataSet['BirthDate'])"
      ],
      "metadata": {
        "id": "SiTqfVL_nAQ9"
      },
      "execution_count": 7,
      "outputs": []
    },
    {
      "cell_type": "code",
      "source": [
        "HealthCareDataSet['AgeAtMedicalEvent'].dt.total_seconds() / (365.25 * 24 * 60 * 60)"
      ],
      "metadata": {
        "colab": {
          "base_uri": "https://localhost:8080/"
        },
        "id": "j5S7I1EWnAOn",
        "outputId": "945522b6-8c82-4863-9521-2c65a0393041"
      },
      "execution_count": 8,
      "outputs": [
        {
          "output_type": "execute_result",
          "data": {
            "text/plain": [
              "0        52.657084\n",
              "1        52.657084\n",
              "2        52.657084\n",
              "3        52.657084\n",
              "4        52.657084\n",
              "           ...    \n",
              "52558    80.637919\n",
              "52559    70.258727\n",
              "52560    70.258727\n",
              "52561    70.258727\n",
              "52562    70.258727\n",
              "Name: AgeAtMedicalEvent, Length: 52563, dtype: float64"
            ]
          },
          "metadata": {},
          "execution_count": 8
        }
      ]
    },
    {
      "cell_type": "code",
      "source": [
        "HealthCareDataSet['AgeAtMedicalEvent']=HealthCareDataSet['AgeAtMedicalEvent'].dt.total_seconds() / (365.25 * 24 * 60 * 60)"
      ],
      "metadata": {
        "id": "7i17pkTrnAL0"
      },
      "execution_count": 9,
      "outputs": []
    },
    {
      "cell_type": "code",
      "source": [],
      "metadata": {
        "id": "HY8dNT4YlEDa"
      },
      "execution_count": 9,
      "outputs": []
    },
    {
      "cell_type": "markdown",
      "source": [
        "### 3. Distribution of Age at Medical Event"
      ],
      "metadata": {
        "id": "qxj4p-tshjlZ"
      }
    },
    {
      "cell_type": "code",
      "source": [
        "HealthCareDataSet['AgeAtMedicalEvent']"
      ],
      "metadata": {
        "colab": {
          "base_uri": "https://localhost:8080/"
        },
        "id": "WZEYqgY2oLyd",
        "outputId": "79411a68-5958-447e-9ca5-b19a70382fd4"
      },
      "execution_count": 10,
      "outputs": [
        {
          "output_type": "execute_result",
          "data": {
            "text/plain": [
              "0        52.657084\n",
              "1        52.657084\n",
              "2        52.657084\n",
              "3        52.657084\n",
              "4        52.657084\n",
              "           ...    \n",
              "52558    80.637919\n",
              "52559    70.258727\n",
              "52560    70.258727\n",
              "52561    70.258727\n",
              "52562    70.258727\n",
              "Name: AgeAtMedicalEvent, Length: 52563, dtype: float64"
            ]
          },
          "metadata": {},
          "execution_count": 10
        }
      ]
    },
    {
      "cell_type": "code",
      "source": [
        "HealthCareDataSet['AgeAtMedicalEvent'].describe()"
      ],
      "metadata": {
        "colab": {
          "base_uri": "https://localhost:8080/"
        },
        "id": "cSMG8se0oLwW",
        "outputId": "cad43515-2718-4afa-8853-7e61b71b295d"
      },
      "execution_count": 11,
      "outputs": [
        {
          "output_type": "execute_result",
          "data": {
            "text/plain": [
              "count    52563.000000\n",
              "mean        72.110668\n",
              "std         12.248572\n",
              "min         20.506502\n",
              "25%         66.581793\n",
              "50%         73.119781\n",
              "75%         80.624230\n",
              "max         99.709788\n",
              "Name: AgeAtMedicalEvent, dtype: float64"
            ]
          },
          "metadata": {},
          "execution_count": 11
        }
      ]
    },
    {
      "cell_type": "code",
      "source": [
        "HealthCareDataSet['AgeAtMedicalEvent'].plot(kind='hist', bins=50)\n",
        "plt.xlabel('Age at Medical Event')\n",
        "plt.ylabel('Number of Medical Events')\n",
        "plt.title('Distribution of Age when the medical event took place')\n",
        "plt.ticklabel_format(useOffset=False, style='plain')\n",
        "plt.show()"
      ],
      "metadata": {
        "colab": {
          "base_uri": "https://localhost:8080/",
          "height": 472
        },
        "id": "ZWQ1ikw8oLt-",
        "outputId": "810507ae-c100-4706-e1b2-d4854a0e5de3"
      },
      "execution_count": 12,
      "outputs": [
        {
          "output_type": "display_data",
          "data": {
            "text/plain": [
              "<Figure size 640x480 with 1 Axes>"
            ],
            "image/png": "[encoded data removed]"
          },
          "metadata": {}
        }
      ]
    },
    {
      "cell_type": "markdown",
      "source": [
        "### From the previous figure we observe that medical event tend to take place when patients's age are between 65 and 80 years.\n",
        "### this distribution is not normal as it is not symetric. Refer to the following figure."
      ],
      "metadata": {
        "id": "3MscDz7gpS6y"
      }
    },
    {
      "cell_type": "code",
      "source": [
        "sns.boxplot(x=HealthCareDataSet['AgeAtMedicalEvent'])"
      ],
      "metadata": {
        "colab": {
          "base_uri": "https://localhost:8080/",
          "height": 467
        },
        "id": "dLxjm7A5oLrf",
        "outputId": "3462e249-35ea-40f7-c5cc-21a35a0c3476"
      },
      "execution_count": 13,
      "outputs": [
        {
          "output_type": "execute_result",
          "data": {
            "text/plain": [
              "<Axes: xlabel='AgeAtMedicalEvent'>"
            ]
          },
          "metadata": {},
          "execution_count": 13
        },
        {
          "output_type": "display_data",
          "data": {
            "text/plain": [
              "<Figure size 640x480 with 1 Axes>"
            ],
            "image/png": "[encoded data removed]"
          },
          "metadata": {}
        }
      ]
    },
    {
      "cell_type": "code",
      "source": [],
      "metadata": {
        "id": "nMUkYZ0NoLo8"
      },
      "execution_count": 13,
      "outputs": []
    },
    {
      "cell_type": "markdown",
      "source": [
        "### 3. Distribution of Costs per Medical Event"
      ],
      "metadata": {
        "id": "mUMGGa4Tqrab"
      }
    },
    {
      "cell_type": "code",
      "source": [],
      "metadata": {
        "id": "n98xdhq4o6K0"
      },
      "execution_count": 13,
      "outputs": []
    },
    {
      "cell_type": "code",
      "source": [],
      "metadata": {
        "id": "8rVKyQzBo6IY"
      },
      "execution_count": 13,
      "outputs": []
    },
    {
      "cell_type": "code",
      "source": [
        "TotalExpensesByMedicalClaim=HealthCareDataSet.groupby('MedicalClaim')['TotalExpenses'].sum()\n",
        "TotalExpensesByMedicalClaim"
      ],
      "metadata": {
        "colab": {
          "base_uri": "https://localhost:8080/"
        },
        "id": "8mgl0J77f2z_",
        "outputId": "38740c0a-f5b3-490e-9e0a-00691188697f"
      },
      "execution_count": 14,
      "outputs": [
        {
          "output_type": "execute_result",
          "data": {
            "text/plain": [
              "MedicalClaim\n",
              "0012a8eb3c2be5f5      4668.692\n",
              "002fd7d73d8060f1     53501.259\n",
              "003886fc8ec986d4     17115.714\n",
              "004fa1cd47f65193      3672.361\n",
              "005edafb00d0f6eb      2548.700\n",
              "                       ...    \n",
              "ffbb520f6fd3b2c9     16743.412\n",
              "ffbd17c54f798c21    137173.701\n",
              "ffe2c14dfe865b6d     82255.586\n",
              "ffe9f5181940e236     32393.578\n",
              "fff610c68bdf675f     54658.520\n",
              "Name: TotalExpenses, Length: 3361, dtype: float64"
            ]
          },
          "metadata": {},
          "execution_count": 14
        }
      ]
    },
    {
      "cell_type": "code",
      "source": [
        "TotalExpensesByMedicalClaim.describe()"
      ],
      "metadata": {
        "colab": {
          "base_uri": "https://localhost:8080/"
        },
        "id": "hO3Z2HTild0t",
        "outputId": "8d13a62c-fb32-4a54-931d-49771bd0c9fe"
      },
      "execution_count": 15,
      "outputs": [
        {
          "output_type": "execute_result",
          "data": {
            "text/plain": [
              "count    3.361000e+03\n",
              "mean     4.277653e+04\n",
              "std      6.940660e+04\n",
              "min      1.561000e+02\n",
              "25%      6.211940e+03\n",
              "50%      2.031355e+04\n",
              "75%      5.149829e+04\n",
              "max      1.066310e+06\n",
              "Name: TotalExpenses, dtype: float64"
            ]
          },
          "metadata": {},
          "execution_count": 15
        }
      ]
    },
    {
      "cell_type": "code",
      "source": [
        "# prompt: distribution of the previous series\n",
        "\n",
        "TotalExpensesByMedicalClaim.plot(kind='hist', bins=50,color='purple')\n",
        "plt.xlabel('Total Expenses')\n",
        "plt.ylabel('Number of Medical Claims')\n",
        "plt.title('Distribution of Total Expenses per Medical Claim')\n",
        "plt.ticklabel_format(useOffset=False, style='plain')\n",
        "\n",
        "plt.show()\n"
      ],
      "metadata": {
        "colab": {
          "base_uri": "https://localhost:8080/",
          "height": 472
        },
        "id": "SJXGFoDqf3ii",
        "outputId": "7af87abf-3f95-484d-ea45-1d6bb848b93a"
      },
      "execution_count": 23,
      "outputs": [
        {
          "output_type": "display_data",
          "data": {
            "text/plain": [
              "<Figure size 640x480 with 1 Axes>"
            ],
            "image/png": "[encoded data removed]"
          },
          "metadata": {}
        }
      ]
    },
    {
      "cell_type": "code",
      "source": [
        "sns.boxplot(x=TotalExpensesByMedicalClaim,log_scale=False,color='purple')\n",
        "plt.ticklabel_format(style='plain', axis='x')"
      ],
      "metadata": {
        "colab": {
          "base_uri": "https://localhost:8080/",
          "height": 449
        },
        "id": "eIgN5oTgsb8v",
        "outputId": "e25579e7-8626-44c4-c2aa-822f1ae10b31"
      },
      "execution_count": 22,
      "outputs": [
        {
          "output_type": "display_data",
          "data": {
            "text/plain": [
              "<Figure size 640x480 with 1 Axes>"
            ],
            "image/png": "[encoded data removed]"
          },
          "metadata": {}
        }
      ]
    },
    {
      "cell_type": "code",
      "source": [],
      "metadata": {
        "id": "m9fwfJ05sb6V"
      },
      "execution_count": 17,
      "outputs": []
    },
    {
      "cell_type": "markdown",
      "source": [
        "### From the previous figures we observe that the total costs associated with each medical event tend to be around 42700$ (mean of the distribution), costs however exhibit large variances.\n",
        "\n",
        "### this distribution is clearly not Normal. It seems to be following an exponential distribution."
      ],
      "metadata": {
        "id": "mVfRqnpsrjTp"
      }
    },
    {
      "cell_type": "code",
      "source": [],
      "metadata": {
        "id": "kre_ZDMLf3f7"
      },
      "execution_count": 17,
      "outputs": []
    },
    {
      "cell_type": "markdown",
      "source": [
        "### 3. Distribution of Costs per Medical Event in Emergency Room Services\n",
        "#### This time we want to exlore the costs associated to Emergency Room Visits"
      ],
      "metadata": {
        "id": "TAX4CwT0uE8a"
      }
    },
    {
      "cell_type": "code",
      "source": [
        "ERServiceFilter=HealthCareDataSet['TypeFlag']=='ER'"
      ],
      "metadata": {
        "id": "lrbpfaeFf3dl"
      },
      "execution_count": 18,
      "outputs": []
    },
    {
      "cell_type": "code",
      "source": [
        "TotalExpensesByMedicalClaimERVisits=HealthCareDataSet[ERServiceFilter].groupby('MedicalClaim')['TotalExpenses'].sum()\n",
        "TotalExpensesByMedicalClaimERVisits"
      ],
      "metadata": {
        "colab": {
          "base_uri": "https://localhost:8080/"
        },
        "id": "75tUDmCduEmO",
        "outputId": "08e8cea4-4542-4951-80e1-37bd9d31e64d"
      },
      "execution_count": 19,
      "outputs": [
        {
          "output_type": "execute_result",
          "data": {
            "text/plain": [
              "MedicalClaim\n",
              "0012a8eb3c2be5f5     4668.692\n",
              "003886fc8ec986d4    17115.714\n",
              "004fa1cd47f65193     3672.361\n",
              "005edafb00d0f6eb     2548.700\n",
              "00667b58e8ae902b     1711.052\n",
              "                      ...    \n",
              "ff33c19456fa47f3    11204.445\n",
              "ff3cd2bab44d245c    15284.843\n",
              "ff3f972f14bf123c    25039.812\n",
              "ff5002f30a109475    11272.863\n",
              "ffbb520f6fd3b2c9    16743.412\n",
              "Name: TotalExpenses, Length: 1871, dtype: float64"
            ]
          },
          "metadata": {},
          "execution_count": 19
        }
      ]
    },
    {
      "cell_type": "code",
      "source": [
        "TotalExpensesByMedicalClaimERVisits.describe()"
      ],
      "metadata": {
        "colab": {
          "base_uri": "https://localhost:8080/"
        },
        "id": "zdcKJTSUuEj3",
        "outputId": "922627cc-646b-4674-ecf2-bd01038d8955"
      },
      "execution_count": 20,
      "outputs": [
        {
          "output_type": "execute_result",
          "data": {
            "text/plain": [
              "count      1871.000000\n",
              "mean      11840.550294\n",
              "std       12816.174369\n",
              "min         156.100000\n",
              "25%        3382.617000\n",
              "50%        7550.970000\n",
              "75%       16894.899000\n",
              "max      153586.076000\n",
              "Name: TotalExpenses, dtype: float64"
            ]
          },
          "metadata": {},
          "execution_count": 20
        }
      ]
    },
    {
      "cell_type": "code",
      "source": [
        "TotalExpensesByMedicalClaimERVisits.plot(kind='hist', bins=50,color='green')\n",
        "plt.xlabel('Total Expenses')\n",
        "plt.ylabel('Number of Medical Claims (ER Visits)')\n",
        "plt.title('Distribution of Total Expenses per Medical Claim related to ER Visits')\n",
        "plt.ticklabel_format(useOffset=False, style='plain')\n",
        "\n",
        "plt.show()\n"
      ],
      "metadata": {
        "colab": {
          "base_uri": "https://localhost:8080/",
          "height": 472
        },
        "id": "bj3Q3IcHuEhg",
        "outputId": "569209c7-2a11-4611-8331-20a79a914d92"
      },
      "execution_count": 24,
      "outputs": [
        {
          "output_type": "display_data",
          "data": {
            "text/plain": [
              "<Figure size 640x480 with 1 Axes>"
            ],
            "image/png": "[encoded data removed]"
          },
          "metadata": {}
        }
      ]
    },
    {
      "cell_type": "markdown",
      "source": [
        "## From the previous figures we observe that the total costs associated with each medical in ER Services event tend to be around 11000$ (mean of the distribution), costs however exhibit large variances.\n",
        "\n",
        "### this distribution is clearly not Normal. It seems to be following an exponential distribution."
      ],
      "metadata": {
        "id": "zqa-AeQUvnyx"
      }
    },
    {
      "cell_type": "code",
      "source": [],
      "metadata": {
        "id": "4hSF2eeEuEfI"
      },
      "execution_count": 21,
      "outputs": []
    },
    {
      "cell_type": "code",
      "source": [],
      "metadata": {
        "id": "a2QJpQHPuEcp"
      },
      "execution_count": 21,
      "outputs": []
    },
    {
      "cell_type": "code",
      "source": [],
      "metadata": {
        "id": "6ckGcg5VuEaD"
      },
      "execution_count": 21,
      "outputs": []
    },
    {
      "cell_type": "markdown",
      "source": [
        "### 4. Distribution of Interventions per Medical Event."
      ],
      "metadata": {
        "id": "1aTAsyfzv4Q1"
      }
    },
    {
      "cell_type": "code",
      "source": [
        "InterventionsByMedicalClaim=HealthCareDataSet.groupby('MedicalClaim')['ClaimItem'].count()\n",
        "InterventionsByMedicalClaim"
      ],
      "metadata": {
        "id": "kOp55FBz41Qw",
        "colab": {
          "base_uri": "https://localhost:8080/"
        },
        "outputId": "43c110ed-cbbb-46dc-94f4-f8edd9a0bb20"
      },
      "execution_count": 25,
      "outputs": [
        {
          "output_type": "execute_result",
          "data": {
            "text/plain": [
              "MedicalClaim\n",
              "0012a8eb3c2be5f5     4\n",
              "002fd7d73d8060f1    24\n",
              "003886fc8ec986d4    18\n",
              "004fa1cd47f65193     9\n",
              "005edafb00d0f6eb     3\n",
              "                    ..\n",
              "ffbb520f6fd3b2c9    16\n",
              "ffbd17c54f798c21    31\n",
              "ffe2c14dfe865b6d    25\n",
              "ffe9f5181940e236    12\n",
              "fff610c68bdf675f    21\n",
              "Name: ClaimItem, Length: 3361, dtype: int64"
            ]
          },
          "metadata": {},
          "execution_count": 25
        }
      ]
    },
    {
      "cell_type": "code",
      "source": [
        "InterventionsByMedicalClaim.describe()"
      ],
      "metadata": {
        "colab": {
          "base_uri": "https://localhost:8080/"
        },
        "id": "iK_vo9qvYWCS",
        "outputId": "7402e69d-a0c2-456c-ee52-1c0d2a7ee8a3"
      },
      "execution_count": 32,
      "outputs": [
        {
          "output_type": "execute_result",
          "data": {
            "text/plain": [
              "count    3361.000000\n",
              "mean       15.639096\n",
              "std        10.765814\n",
              "min         1.000000\n",
              "25%         8.000000\n",
              "50%        15.000000\n",
              "75%        21.000000\n",
              "max       127.000000\n",
              "Name: ClaimItem, dtype: float64"
            ]
          },
          "metadata": {},
          "execution_count": 32
        }
      ]
    },
    {
      "cell_type": "code",
      "source": [
        "InterventionsByMedicalClaim.plot(kind='hist', bins=150,color='orange')\n",
        "plt.xlabel('Number of Interventions per Medical Claim')\n",
        "plt.ylabel('Counts')\n",
        "plt.title('Distribution of the number of Interventions per Medical Claim')\n",
        "plt.ticklabel_format(useOffset=False, style='plain')\n",
        "\n",
        "plt.show()"
      ],
      "metadata": {
        "id": "fkNuuBpJ42ne",
        "colab": {
          "base_uri": "https://localhost:8080/",
          "height": 472
        },
        "outputId": "3dcaed46-f89f-42bf-b100-7f31f563958d"
      },
      "execution_count": 31,
      "outputs": [
        {
          "output_type": "display_data",
          "data": {
            "text/plain": [
              "<Figure size 640x480 with 1 Axes>"
            ],
            "image/png": "[encoded data removed]"
          },
          "metadata": {}
        }
      ]
    },
    {
      "cell_type": "markdown",
      "source": [
        "## On average the number of interventions per Medical Claim is around 15.36."
      ],
      "metadata": {
        "id": "pyWxwGtAwGNP"
      }
    },
    {
      "cell_type": "code",
      "source": [
        "sns.boxplot(x=InterventionsByMedicalClaim,log_scale=False,color='orange')\n",
        "plt.ticklabel_format(style='plain', axis='x')"
      ],
      "metadata": {
        "colab": {
          "base_uri": "https://localhost:8080/",
          "height": 449
        },
        "id": "eDjNIXlkYDzO",
        "outputId": "26cd7315-983e-4d39-821a-36f3e9b1c1a1"
      },
      "execution_count": 28,
      "outputs": [
        {
          "output_type": "display_data",
          "data": {
            "text/plain": [
              "<Figure size 640x480 with 1 Axes>"
            ],
            "image/png": "[encoded data removed]"
          },
          "metadata": {}
        }
      ]
    },
    {
      "cell_type": "code",
      "source": [],
      "metadata": {
        "id": "cg-WzgcVYHCc"
      },
      "execution_count": null,
      "outputs": []
    }
  ]
}